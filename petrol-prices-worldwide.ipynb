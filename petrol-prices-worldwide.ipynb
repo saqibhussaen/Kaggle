{
 "cells": [
  {
   "cell_type": "code",
   "execution_count": 1,
   "id": "8f814ade",
   "metadata": {
    "_cell_guid": "b1076dfc-b9ad-4769-8c92-a6c4dae69d19",
    "_uuid": "8f2839f25d086af736a60e9eeb907d3b93b6e0e5",
    "execution": {
     "iopub.execute_input": "2022-07-13T06:11:53.219535Z",
     "iopub.status.busy": "2022-07-13T06:11:53.218984Z",
     "iopub.status.idle": "2022-07-13T06:11:53.239766Z",
     "shell.execute_reply": "2022-07-13T06:11:53.238728Z"
    },
    "papermill": {
     "duration": 0.033113,
     "end_time": "2022-07-13T06:11:53.243947",
     "exception": false,
     "start_time": "2022-07-13T06:11:53.210834",
     "status": "completed"
    },
    "tags": []
   },
   "outputs": [
    {
     "name": "stdout",
     "output_type": "stream",
     "text": [
      "/kaggle/input/petrolgas-prices-worldwide/Petrol Dataset June 23 2022 -- Version 2.csv\n",
      "/kaggle/input/petrolgas-prices-worldwide/Petrol Dataset June 20 2022.csv\n"
     ]
    }
   ],
   "source": [
    "# This Python 3 environment comes with many helpful analytics libraries installed\n",
    "# It is defined by the kaggle/python Docker image: https://github.com/kaggle/docker-python\n",
    "# For example, here's several helpful packages to load\n",
    "\n",
    "import numpy as np # linear algebra\n",
    "import pandas as pd # data processing, CSV file I/O (e.g. pd.read_csv)\n",
    "\n",
    "# Input data files are available in the read-only \"../input/\" directory\n",
    "# For example, running this (by clicking run or pressing Shift+Enter) will list all files under the input directory\n",
    "\n",
    "import os\n",
    "for dirname, _, filenames in os.walk('/kaggle/input'):\n",
    "    for filename in filenames:\n",
    "        print(os.path.join(dirname, filename))\n",
    "\n",
    "# You can write up to 20GB to the current directory (/kaggle/working/) that gets preserved as output when you create a version using \"Save & Run All\" \n",
    "# You can also write temporary files to /kaggle/temp/, but they won't be saved outside of the current session"
   ]
  },
  {
   "cell_type": "code",
   "execution_count": 2,
   "id": "73bbd0de",
   "metadata": {
    "execution": {
     "iopub.execute_input": "2022-07-13T06:11:53.256473Z",
     "iopub.status.busy": "2022-07-13T06:11:53.256000Z",
     "iopub.status.idle": "2022-07-13T06:11:53.261720Z",
     "shell.execute_reply": "2022-07-13T06:11:53.260287Z"
    },
    "papermill": {
     "duration": 0.015005,
     "end_time": "2022-07-13T06:11:53.264311",
     "exception": false,
     "start_time": "2022-07-13T06:11:53.249306",
     "status": "completed"
    },
    "tags": []
   },
   "outputs": [],
   "source": [
    "import pandas as pd"
   ]
  },
  {
   "cell_type": "code",
   "execution_count": 3,
   "id": "301bcab3",
   "metadata": {
    "execution": {
     "iopub.execute_input": "2022-07-13T06:11:53.277421Z",
     "iopub.status.busy": "2022-07-13T06:11:53.276088Z",
     "iopub.status.idle": "2022-07-13T06:11:53.296625Z",
     "shell.execute_reply": "2022-07-13T06:11:53.295373Z"
    },
    "papermill": {
     "duration": 0.030034,
     "end_time": "2022-07-13T06:11:53.299427",
     "exception": false,
     "start_time": "2022-07-13T06:11:53.269393",
     "status": "completed"
    },
    "tags": []
   },
   "outputs": [],
   "source": [
    "df = pd.read_csv(\"../input/petrolgas-prices-worldwide/Petrol Dataset June 23 2022 -- Version 2.csv\", \n",
    "                       encoding='latin-1')"
   ]
  },
  {
   "cell_type": "code",
   "execution_count": 4,
   "id": "be82d818",
   "metadata": {
    "execution": {
     "iopub.execute_input": "2022-07-13T06:11:53.312344Z",
     "iopub.status.busy": "2022-07-13T06:11:53.311516Z",
     "iopub.status.idle": "2022-07-13T06:11:53.344366Z",
     "shell.execute_reply": "2022-07-13T06:11:53.343052Z"
    },
    "papermill": {
     "duration": 0.042548,
     "end_time": "2022-07-13T06:11:53.347139",
     "exception": false,
     "start_time": "2022-07-13T06:11:53.304591",
     "status": "completed"
    },
    "tags": []
   },
   "outputs": [
    {
     "data": {
      "text/html": [
       "<div>\n",
       "<style scoped>\n",
       "    .dataframe tbody tr th:only-of-type {\n",
       "        vertical-align: middle;\n",
       "    }\n",
       "\n",
       "    .dataframe tbody tr th {\n",
       "        vertical-align: top;\n",
       "    }\n",
       "\n",
       "    .dataframe thead th {\n",
       "        text-align: right;\n",
       "    }\n",
       "</style>\n",
       "<table border=\"1\" class=\"dataframe\">\n",
       "  <thead>\n",
       "    <tr style=\"text-align: right;\">\n",
       "      <th></th>\n",
       "      <th>S#</th>\n",
       "      <th>Country</th>\n",
       "      <th>Daily Oil Consumption (Barrels)</th>\n",
       "      <th>World Share</th>\n",
       "      <th>Yearly Gallons Per Capita</th>\n",
       "      <th>Price Per Gallon (USD)</th>\n",
       "      <th>Price Per Liter (USD)</th>\n",
       "      <th>Price Per Liter (PKR)</th>\n",
       "      <th>GDP Per Capita ( USD )</th>\n",
       "      <th>Gallons GDP Per Capita Can Buy</th>\n",
       "      <th>xTimes Yearly Gallons Per Capita Buy</th>\n",
       "    </tr>\n",
       "  </thead>\n",
       "  <tbody>\n",
       "    <tr>\n",
       "      <th>0</th>\n",
       "      <td>1</td>\n",
       "      <td>United States</td>\n",
       "      <td>19,687,287</td>\n",
       "      <td>20%</td>\n",
       "      <td>934.3</td>\n",
       "      <td>5.19</td>\n",
       "      <td>1.37</td>\n",
       "      <td>289.97</td>\n",
       "      <td>63,414</td>\n",
       "      <td>12,218</td>\n",
       "      <td>13</td>\n",
       "    </tr>\n",
       "    <tr>\n",
       "      <th>1</th>\n",
       "      <td>2</td>\n",
       "      <td>China</td>\n",
       "      <td>12,791,553</td>\n",
       "      <td>13%</td>\n",
       "      <td>138.7</td>\n",
       "      <td>5.42</td>\n",
       "      <td>1.43</td>\n",
       "      <td>302.87</td>\n",
       "      <td>10,435</td>\n",
       "      <td>1,925</td>\n",
       "      <td>14</td>\n",
       "    </tr>\n",
       "    <tr>\n",
       "      <th>2</th>\n",
       "      <td>3</td>\n",
       "      <td>India</td>\n",
       "      <td>4,443,000</td>\n",
       "      <td>5%</td>\n",
       "      <td>51.4</td>\n",
       "      <td>5.05</td>\n",
       "      <td>1.33</td>\n",
       "      <td>281.93</td>\n",
       "      <td>1,901</td>\n",
       "      <td>376</td>\n",
       "      <td>7</td>\n",
       "    </tr>\n",
       "    <tr>\n",
       "      <th>3</th>\n",
       "      <td>4</td>\n",
       "      <td>Japan</td>\n",
       "      <td>4,012,877</td>\n",
       "      <td>4%</td>\n",
       "      <td>481.5</td>\n",
       "      <td>4.69</td>\n",
       "      <td>1.24</td>\n",
       "      <td>262.05</td>\n",
       "      <td>40,193</td>\n",
       "      <td>8,570</td>\n",
       "      <td>18</td>\n",
       "    </tr>\n",
       "    <tr>\n",
       "      <th>4</th>\n",
       "      <td>5</td>\n",
       "      <td>Russia</td>\n",
       "      <td>3,631,287</td>\n",
       "      <td>4%</td>\n",
       "      <td>383.2</td>\n",
       "      <td>3.41</td>\n",
       "      <td>0.90</td>\n",
       "      <td>190.56</td>\n",
       "      <td>10,127</td>\n",
       "      <td>2,970</td>\n",
       "      <td>8</td>\n",
       "    </tr>\n",
       "    <tr>\n",
       "      <th>5</th>\n",
       "      <td>6</td>\n",
       "      <td>Saudi Arabia</td>\n",
       "      <td>3,302,000</td>\n",
       "      <td>3%</td>\n",
       "      <td>1560.2</td>\n",
       "      <td>2.35</td>\n",
       "      <td>0.62</td>\n",
       "      <td>131.34</td>\n",
       "      <td>20,110</td>\n",
       "      <td>8,557</td>\n",
       "      <td>5</td>\n",
       "    </tr>\n",
       "    <tr>\n",
       "      <th>6</th>\n",
       "      <td>7</td>\n",
       "      <td>Brazil</td>\n",
       "      <td>2,984,000</td>\n",
       "      <td>3%</td>\n",
       "      <td>221.9</td>\n",
       "      <td>5.36</td>\n",
       "      <td>1.42</td>\n",
       "      <td>299.27</td>\n",
       "      <td>6,797</td>\n",
       "      <td>1,268</td>\n",
       "      <td>6</td>\n",
       "    </tr>\n",
       "    <tr>\n",
       "      <th>7</th>\n",
       "      <td>8</td>\n",
       "      <td>South Korea</td>\n",
       "      <td>2,605,440</td>\n",
       "      <td>3%</td>\n",
       "      <td>783.4</td>\n",
       "      <td>6.09</td>\n",
       "      <td>1.61</td>\n",
       "      <td>340.52</td>\n",
       "      <td>31,632</td>\n",
       "      <td>5,194</td>\n",
       "      <td>7</td>\n",
       "    </tr>\n",
       "    <tr>\n",
       "      <th>8</th>\n",
       "      <td>9</td>\n",
       "      <td>Canada</td>\n",
       "      <td>2,486,301</td>\n",
       "      <td>3%</td>\n",
       "      <td>1047.6</td>\n",
       "      <td>6.76</td>\n",
       "      <td>1.79</td>\n",
       "      <td>377.74</td>\n",
       "      <td>43,258</td>\n",
       "      <td>6,399</td>\n",
       "      <td>6</td>\n",
       "    </tr>\n",
       "    <tr>\n",
       "      <th>9</th>\n",
       "      <td>10</td>\n",
       "      <td>Germany</td>\n",
       "      <td>2,383,393</td>\n",
       "      <td>3%</td>\n",
       "      <td>444.5</td>\n",
       "      <td>7.65</td>\n",
       "      <td>2.02</td>\n",
       "      <td>427.44</td>\n",
       "      <td>46,208</td>\n",
       "      <td>6,040</td>\n",
       "      <td>14</td>\n",
       "    </tr>\n",
       "  </tbody>\n",
       "</table>\n",
       "</div>"
      ],
      "text/plain": [
       "   S#        Country Daily Oil Consumption (Barrels) World Share  \\\n",
       "0   1  United States                      19,687,287         20%   \n",
       "1   2          China                      12,791,553         13%   \n",
       "2   3          India                       4,443,000          5%   \n",
       "3   4          Japan                       4,012,877          4%   \n",
       "4   5         Russia                       3,631,287          4%   \n",
       "5   6   Saudi Arabia                       3,302,000          3%   \n",
       "6   7         Brazil                       2,984,000          3%   \n",
       "7   8    South Korea                       2,605,440          3%   \n",
       "8   9         Canada                       2,486,301          3%   \n",
       "9  10        Germany                       2,383,393          3%   \n",
       "\n",
       "   Yearly Gallons Per Capita  Price Per Gallon (USD)  Price Per Liter (USD)  \\\n",
       "0                      934.3                    5.19                   1.37   \n",
       "1                      138.7                    5.42                   1.43   \n",
       "2                       51.4                    5.05                   1.33   \n",
       "3                      481.5                    4.69                   1.24   \n",
       "4                      383.2                    3.41                   0.90   \n",
       "5                     1560.2                    2.35                   0.62   \n",
       "6                      221.9                    5.36                   1.42   \n",
       "7                      783.4                    6.09                   1.61   \n",
       "8                     1047.6                    6.76                   1.79   \n",
       "9                      444.5                    7.65                   2.02   \n",
       "\n",
       "   Price Per Liter (PKR) GDP Per Capita ( USD )  \\\n",
       "0                 289.97                 63,414   \n",
       "1                 302.87                 10,435   \n",
       "2                 281.93                  1,901   \n",
       "3                 262.05                 40,193   \n",
       "4                 190.56                 10,127   \n",
       "5                 131.34                 20,110   \n",
       "6                 299.27                  6,797   \n",
       "7                 340.52                 31,632   \n",
       "8                 377.74                 43,258   \n",
       "9                 427.44                 46,208   \n",
       "\n",
       "  Gallons GDP Per Capita Can Buy  xTimes Yearly Gallons Per Capita Buy  \n",
       "0                         12,218                                    13  \n",
       "1                          1,925                                    14  \n",
       "2                            376                                     7  \n",
       "3                          8,570                                    18  \n",
       "4                          2,970                                     8  \n",
       "5                          8,557                                     5  \n",
       "6                          1,268                                     6  \n",
       "7                          5,194                                     7  \n",
       "8                          6,399                                     6  \n",
       "9                          6,040                                    14  "
      ]
     },
     "execution_count": 4,
     "metadata": {},
     "output_type": "execute_result"
    }
   ],
   "source": [
    "df.head(10)"
   ]
  },
  {
   "cell_type": "code",
   "execution_count": 5,
   "id": "1f4dc91a",
   "metadata": {
    "execution": {
     "iopub.execute_input": "2022-07-13T06:11:53.360466Z",
     "iopub.status.busy": "2022-07-13T06:11:53.359983Z",
     "iopub.status.idle": "2022-07-13T06:11:53.403330Z",
     "shell.execute_reply": "2022-07-13T06:11:53.402104Z"
    },
    "papermill": {
     "duration": 0.053353,
     "end_time": "2022-07-13T06:11:53.405996",
     "exception": false,
     "start_time": "2022-07-13T06:11:53.352643",
     "status": "completed"
    },
    "tags": []
   },
   "outputs": [
    {
     "data": {
      "text/html": [
       "<div>\n",
       "<style scoped>\n",
       "    .dataframe tbody tr th:only-of-type {\n",
       "        vertical-align: middle;\n",
       "    }\n",
       "\n",
       "    .dataframe tbody tr th {\n",
       "        vertical-align: top;\n",
       "    }\n",
       "\n",
       "    .dataframe thead th {\n",
       "        text-align: right;\n",
       "    }\n",
       "</style>\n",
       "<table border=\"1\" class=\"dataframe\">\n",
       "  <thead>\n",
       "    <tr style=\"text-align: right;\">\n",
       "      <th></th>\n",
       "      <th>S#</th>\n",
       "      <th>Yearly Gallons Per Capita</th>\n",
       "      <th>Price Per Gallon (USD)</th>\n",
       "      <th>Price Per Liter (USD)</th>\n",
       "      <th>Price Per Liter (PKR)</th>\n",
       "      <th>xTimes Yearly Gallons Per Capita Buy</th>\n",
       "    </tr>\n",
       "  </thead>\n",
       "  <tbody>\n",
       "    <tr>\n",
       "      <th>count</th>\n",
       "      <td>181.000000</td>\n",
       "      <td>181.000000</td>\n",
       "      <td>181.000000</td>\n",
       "      <td>181.000000</td>\n",
       "      <td>181.000000</td>\n",
       "      <td>181.000000</td>\n",
       "    </tr>\n",
       "    <tr>\n",
       "      <th>mean</th>\n",
       "      <td>91.000000</td>\n",
       "      <td>332.006630</td>\n",
       "      <td>5.695691</td>\n",
       "      <td>1.505138</td>\n",
       "      <td>318.219227</td>\n",
       "      <td>14.204420</td>\n",
       "    </tr>\n",
       "    <tr>\n",
       "      <th>std</th>\n",
       "      <td>52.394338</td>\n",
       "      <td>436.558735</td>\n",
       "      <td>4.370484</td>\n",
       "      <td>1.154575</td>\n",
       "      <td>244.192081</td>\n",
       "      <td>48.613866</td>\n",
       "    </tr>\n",
       "    <tr>\n",
       "      <th>min</th>\n",
       "      <td>1.000000</td>\n",
       "      <td>2.200000</td>\n",
       "      <td>0.080000</td>\n",
       "      <td>0.020000</td>\n",
       "      <td>4.650000</td>\n",
       "      <td>1.000000</td>\n",
       "    </tr>\n",
       "    <tr>\n",
       "      <th>25%</th>\n",
       "      <td>46.000000</td>\n",
       "      <td>53.900000</td>\n",
       "      <td>4.150000</td>\n",
       "      <td>1.100000</td>\n",
       "      <td>232.020000</td>\n",
       "      <td>6.000000</td>\n",
       "    </tr>\n",
       "    <tr>\n",
       "      <th>50%</th>\n",
       "      <td>91.000000</td>\n",
       "      <td>180.200000</td>\n",
       "      <td>5.280000</td>\n",
       "      <td>1.400000</td>\n",
       "      <td>295.040000</td>\n",
       "      <td>9.000000</td>\n",
       "    </tr>\n",
       "    <tr>\n",
       "      <th>75%</th>\n",
       "      <td>136.000000</td>\n",
       "      <td>424.600000</td>\n",
       "      <td>6.760000</td>\n",
       "      <td>1.790000</td>\n",
       "      <td>377.740000</td>\n",
       "      <td>12.000000</td>\n",
       "    </tr>\n",
       "    <tr>\n",
       "      <th>max</th>\n",
       "      <td>181.000000</td>\n",
       "      <td>3679.500000</td>\n",
       "      <td>54.890000</td>\n",
       "      <td>14.500000</td>\n",
       "      <td>3066.750000</td>\n",
       "      <td>654.000000</td>\n",
       "    </tr>\n",
       "  </tbody>\n",
       "</table>\n",
       "</div>"
      ],
      "text/plain": [
       "               S#  Yearly Gallons Per Capita  Price Per Gallon (USD)  \\\n",
       "count  181.000000                 181.000000              181.000000   \n",
       "mean    91.000000                 332.006630                5.695691   \n",
       "std     52.394338                 436.558735                4.370484   \n",
       "min      1.000000                   2.200000                0.080000   \n",
       "25%     46.000000                  53.900000                4.150000   \n",
       "50%     91.000000                 180.200000                5.280000   \n",
       "75%    136.000000                 424.600000                6.760000   \n",
       "max    181.000000                3679.500000               54.890000   \n",
       "\n",
       "       Price Per Liter (USD)  Price Per Liter (PKR)  \\\n",
       "count             181.000000             181.000000   \n",
       "mean                1.505138             318.219227   \n",
       "std                 1.154575             244.192081   \n",
       "min                 0.020000               4.650000   \n",
       "25%                 1.100000             232.020000   \n",
       "50%                 1.400000             295.040000   \n",
       "75%                 1.790000             377.740000   \n",
       "max                14.500000            3066.750000   \n",
       "\n",
       "       xTimes Yearly Gallons Per Capita Buy  \n",
       "count                            181.000000  \n",
       "mean                              14.204420  \n",
       "std                               48.613866  \n",
       "min                                1.000000  \n",
       "25%                                6.000000  \n",
       "50%                                9.000000  \n",
       "75%                               12.000000  \n",
       "max                              654.000000  "
      ]
     },
     "execution_count": 5,
     "metadata": {},
     "output_type": "execute_result"
    }
   ],
   "source": [
    "df.describe()"
   ]
  },
  {
   "cell_type": "code",
   "execution_count": 6,
   "id": "017d36a3",
   "metadata": {
    "execution": {
     "iopub.execute_input": "2022-07-13T06:11:53.419630Z",
     "iopub.status.busy": "2022-07-13T06:11:53.419147Z",
     "iopub.status.idle": "2022-07-13T06:11:53.439645Z",
     "shell.execute_reply": "2022-07-13T06:11:53.437781Z"
    },
    "papermill": {
     "duration": 0.030216,
     "end_time": "2022-07-13T06:11:53.442050",
     "exception": false,
     "start_time": "2022-07-13T06:11:53.411834",
     "status": "completed"
    },
    "tags": []
   },
   "outputs": [
    {
     "name": "stdout",
     "output_type": "stream",
     "text": [
      "<class 'pandas.core.frame.DataFrame'>\n",
      "RangeIndex: 181 entries, 0 to 180\n",
      "Data columns (total 11 columns):\n",
      " #   Column                                Non-Null Count  Dtype  \n",
      "---  ------                                --------------  -----  \n",
      " 0   S#                                    181 non-null    int64  \n",
      " 1   Country                               181 non-null    object \n",
      " 2   Daily Oil Consumption (Barrels)       181 non-null    object \n",
      " 3   World Share                           181 non-null    object \n",
      " 4   Yearly Gallons Per Capita             181 non-null    float64\n",
      " 5   Price Per Gallon (USD)                181 non-null    float64\n",
      " 6   Price Per Liter (USD)                 181 non-null    float64\n",
      " 7   Price Per Liter (PKR)                 181 non-null    float64\n",
      " 8   GDP Per Capita ( USD )                181 non-null    object \n",
      " 9   Gallons GDP Per Capita Can Buy        181 non-null    object \n",
      " 10  xTimes Yearly Gallons Per Capita Buy  181 non-null    int64  \n",
      "dtypes: float64(4), int64(2), object(5)\n",
      "memory usage: 15.7+ KB\n"
     ]
    }
   ],
   "source": [
    "df.info()"
   ]
  },
  {
   "cell_type": "code",
   "execution_count": 7,
   "id": "01b47fad",
   "metadata": {
    "execution": {
     "iopub.execute_input": "2022-07-13T06:11:53.455549Z",
     "iopub.status.busy": "2022-07-13T06:11:53.455099Z",
     "iopub.status.idle": "2022-07-13T06:11:53.466204Z",
     "shell.execute_reply": "2022-07-13T06:11:53.465114Z"
    },
    "papermill": {
     "duration": 0.020788,
     "end_time": "2022-07-13T06:11:53.468596",
     "exception": false,
     "start_time": "2022-07-13T06:11:53.447808",
     "status": "completed"
    },
    "tags": []
   },
   "outputs": [
    {
     "data": {
      "text/plain": [
       "S#                                      0\n",
       "Country                                 0\n",
       "Daily Oil Consumption (Barrels)         0\n",
       "World Share                             0\n",
       "Yearly Gallons Per Capita               0\n",
       "Price Per Gallon (USD)                  0\n",
       "Price Per Liter (USD)                   0\n",
       "Price Per Liter (PKR)                   0\n",
       "GDP Per Capita ( USD )                  0\n",
       "Gallons GDP Per Capita Can Buy          0\n",
       "xTimes Yearly Gallons Per Capita Buy    0\n",
       "dtype: int64"
      ]
     },
     "execution_count": 7,
     "metadata": {},
     "output_type": "execute_result"
    }
   ],
   "source": [
    "df.isnull().sum()"
   ]
  },
  {
   "cell_type": "code",
   "execution_count": 8,
   "id": "0ec1c225",
   "metadata": {
    "execution": {
     "iopub.execute_input": "2022-07-13T06:11:53.482270Z",
     "iopub.status.busy": "2022-07-13T06:11:53.481792Z",
     "iopub.status.idle": "2022-07-13T06:11:53.499975Z",
     "shell.execute_reply": "2022-07-13T06:11:53.498927Z"
    },
    "papermill": {
     "duration": 0.027668,
     "end_time": "2022-07-13T06:11:53.502258",
     "exception": false,
     "start_time": "2022-07-13T06:11:53.474590",
     "status": "completed"
    },
    "tags": []
   },
   "outputs": [
    {
     "data": {
      "text/html": [
       "<div>\n",
       "<style scoped>\n",
       "    .dataframe tbody tr th:only-of-type {\n",
       "        vertical-align: middle;\n",
       "    }\n",
       "\n",
       "    .dataframe tbody tr th {\n",
       "        vertical-align: top;\n",
       "    }\n",
       "\n",
       "    .dataframe thead th {\n",
       "        text-align: right;\n",
       "    }\n",
       "</style>\n",
       "<table border=\"1\" class=\"dataframe\">\n",
       "  <thead>\n",
       "    <tr style=\"text-align: right;\">\n",
       "      <th></th>\n",
       "      <th>S#</th>\n",
       "      <th>Yearly Gallons Per Capita</th>\n",
       "      <th>Price Per Gallon (USD)</th>\n",
       "      <th>Price Per Liter (USD)</th>\n",
       "      <th>Price Per Liter (PKR)</th>\n",
       "      <th>xTimes Yearly Gallons Per Capita Buy</th>\n",
       "    </tr>\n",
       "  </thead>\n",
       "  <tbody>\n",
       "    <tr>\n",
       "      <th>S#</th>\n",
       "      <td>1.000000</td>\n",
       "      <td>-0.188944</td>\n",
       "      <td>0.121811</td>\n",
       "      <td>0.121623</td>\n",
       "      <td>0.121741</td>\n",
       "      <td>-0.109388</td>\n",
       "    </tr>\n",
       "    <tr>\n",
       "      <th>Yearly Gallons Per Capita</th>\n",
       "      <td>-0.188944</td>\n",
       "      <td>1.000000</td>\n",
       "      <td>0.057293</td>\n",
       "      <td>0.057471</td>\n",
       "      <td>0.057368</td>\n",
       "      <td>-0.025534</td>\n",
       "    </tr>\n",
       "    <tr>\n",
       "      <th>Price Per Gallon (USD)</th>\n",
       "      <td>0.121811</td>\n",
       "      <td>0.057293</td>\n",
       "      <td>1.000000</td>\n",
       "      <td>0.999997</td>\n",
       "      <td>1.000000</td>\n",
       "      <td>-0.144467</td>\n",
       "    </tr>\n",
       "    <tr>\n",
       "      <th>Price Per Liter (USD)</th>\n",
       "      <td>0.121623</td>\n",
       "      <td>0.057471</td>\n",
       "      <td>0.999997</td>\n",
       "      <td>1.000000</td>\n",
       "      <td>0.999997</td>\n",
       "      <td>-0.144567</td>\n",
       "    </tr>\n",
       "    <tr>\n",
       "      <th>Price Per Liter (PKR)</th>\n",
       "      <td>0.121741</td>\n",
       "      <td>0.057368</td>\n",
       "      <td>1.000000</td>\n",
       "      <td>0.999997</td>\n",
       "      <td>1.000000</td>\n",
       "      <td>-0.144409</td>\n",
       "    </tr>\n",
       "    <tr>\n",
       "      <th>xTimes Yearly Gallons Per Capita Buy</th>\n",
       "      <td>-0.109388</td>\n",
       "      <td>-0.025534</td>\n",
       "      <td>-0.144467</td>\n",
       "      <td>-0.144567</td>\n",
       "      <td>-0.144409</td>\n",
       "      <td>1.000000</td>\n",
       "    </tr>\n",
       "  </tbody>\n",
       "</table>\n",
       "</div>"
      ],
      "text/plain": [
       "                                            S#  Yearly Gallons Per Capita  \\\n",
       "S#                                    1.000000                  -0.188944   \n",
       "Yearly Gallons Per Capita            -0.188944                   1.000000   \n",
       "Price Per Gallon (USD)                0.121811                   0.057293   \n",
       "Price Per Liter (USD)                 0.121623                   0.057471   \n",
       "Price Per Liter (PKR)                 0.121741                   0.057368   \n",
       "xTimes Yearly Gallons Per Capita Buy -0.109388                  -0.025534   \n",
       "\n",
       "                                      Price Per Gallon (USD)  \\\n",
       "S#                                                  0.121811   \n",
       "Yearly Gallons Per Capita                           0.057293   \n",
       "Price Per Gallon (USD)                              1.000000   \n",
       "Price Per Liter (USD)                               0.999997   \n",
       "Price Per Liter (PKR)                               1.000000   \n",
       "xTimes Yearly Gallons Per Capita Buy               -0.144467   \n",
       "\n",
       "                                      Price Per Liter (USD)  \\\n",
       "S#                                                 0.121623   \n",
       "Yearly Gallons Per Capita                          0.057471   \n",
       "Price Per Gallon (USD)                             0.999997   \n",
       "Price Per Liter (USD)                              1.000000   \n",
       "Price Per Liter (PKR)                              0.999997   \n",
       "xTimes Yearly Gallons Per Capita Buy              -0.144567   \n",
       "\n",
       "                                      Price Per Liter (PKR)  \\\n",
       "S#                                                 0.121741   \n",
       "Yearly Gallons Per Capita                          0.057368   \n",
       "Price Per Gallon (USD)                             1.000000   \n",
       "Price Per Liter (USD)                              0.999997   \n",
       "Price Per Liter (PKR)                              1.000000   \n",
       "xTimes Yearly Gallons Per Capita Buy              -0.144409   \n",
       "\n",
       "                                      xTimes Yearly Gallons Per Capita Buy  \n",
       "S#                                                               -0.109388  \n",
       "Yearly Gallons Per Capita                                        -0.025534  \n",
       "Price Per Gallon (USD)                                           -0.144467  \n",
       "Price Per Liter (USD)                                            -0.144567  \n",
       "Price Per Liter (PKR)                                            -0.144409  \n",
       "xTimes Yearly Gallons Per Capita Buy                              1.000000  "
      ]
     },
     "execution_count": 8,
     "metadata": {},
     "output_type": "execute_result"
    }
   ],
   "source": [
    "df.corr()"
   ]
  },
  {
   "cell_type": "code",
   "execution_count": 9,
   "id": "a7465b47",
   "metadata": {
    "execution": {
     "iopub.execute_input": "2022-07-13T06:11:53.516304Z",
     "iopub.status.busy": "2022-07-13T06:11:53.515851Z",
     "iopub.status.idle": "2022-07-13T06:11:53.524287Z",
     "shell.execute_reply": "2022-07-13T06:11:53.523219Z"
    },
    "papermill": {
     "duration": 0.018343,
     "end_time": "2022-07-13T06:11:53.526733",
     "exception": false,
     "start_time": "2022-07-13T06:11:53.508390",
     "status": "completed"
    },
    "tags": []
   },
   "outputs": [
    {
     "data": {
      "text/plain": [
       "318.219226519337"
      ]
     },
     "execution_count": 9,
     "metadata": {},
     "output_type": "execute_result"
    }
   ],
   "source": [
    "df['Price Per Liter (PKR)'].mean()"
   ]
  },
  {
   "cell_type": "code",
   "execution_count": 10,
   "id": "01733c4d",
   "metadata": {
    "execution": {
     "iopub.execute_input": "2022-07-13T06:11:53.541629Z",
     "iopub.status.busy": "2022-07-13T06:11:53.540862Z",
     "iopub.status.idle": "2022-07-13T06:11:53.548505Z",
     "shell.execute_reply": "2022-07-13T06:11:53.547646Z"
    },
    "papermill": {
     "duration": 0.017633,
     "end_time": "2022-07-13T06:11:53.550696",
     "exception": false,
     "start_time": "2022-07-13T06:11:53.533063",
     "status": "completed"
    },
    "tags": []
   },
   "outputs": [
    {
     "data": {
      "text/plain": [
       "295.04"
      ]
     },
     "execution_count": 10,
     "metadata": {},
     "output_type": "execute_result"
    }
   ],
   "source": [
    "df['Price Per Liter (PKR)'].median()"
   ]
  },
  {
   "cell_type": "code",
   "execution_count": 11,
   "id": "7ed4a6f3",
   "metadata": {
    "execution": {
     "iopub.execute_input": "2022-07-13T06:11:53.565499Z",
     "iopub.status.busy": "2022-07-13T06:11:53.565046Z",
     "iopub.status.idle": "2022-07-13T06:11:53.577175Z",
     "shell.execute_reply": "2022-07-13T06:11:53.575742Z"
    },
    "papermill": {
     "duration": 0.022462,
     "end_time": "2022-07-13T06:11:53.579502",
     "exception": false,
     "start_time": "2022-07-13T06:11:53.557040",
     "status": "completed"
    },
    "tags": []
   },
   "outputs": [
    {
     "data": {
      "text/plain": [
       "0    268.18\n",
       "dtype: float64"
      ]
     },
     "execution_count": 11,
     "metadata": {},
     "output_type": "execute_result"
    }
   ],
   "source": [
    "df['Price Per Liter (PKR)'].mode()"
   ]
  },
  {
   "cell_type": "code",
   "execution_count": 12,
   "id": "6dbc783f",
   "metadata": {
    "execution": {
     "iopub.execute_input": "2022-07-13T06:11:53.594735Z",
     "iopub.status.busy": "2022-07-13T06:11:53.594307Z",
     "iopub.status.idle": "2022-07-13T06:11:53.599357Z",
     "shell.execute_reply": "2022-07-13T06:11:53.598308Z"
    },
    "papermill": {
     "duration": 0.015367,
     "end_time": "2022-07-13T06:11:53.601500",
     "exception": false,
     "start_time": "2022-07-13T06:11:53.586133",
     "status": "completed"
    },
    "tags": []
   },
   "outputs": [],
   "source": [
    "PKR = df['Price Per Liter (PKR)']\n",
    "USD = df['Price Per Liter (USD)']\n",
    "con = df[\"Daily Oil Consumption (Barrels)\"]"
   ]
  },
  {
   "cell_type": "code",
   "execution_count": 13,
   "id": "1a0bf856",
   "metadata": {
    "execution": {
     "iopub.execute_input": "2022-07-13T06:11:53.616885Z",
     "iopub.status.busy": "2022-07-13T06:11:53.616450Z",
     "iopub.status.idle": "2022-07-13T06:11:53.626461Z",
     "shell.execute_reply": "2022-07-13T06:11:53.625469Z"
    },
    "papermill": {
     "duration": 0.02051,
     "end_time": "2022-07-13T06:11:53.628720",
     "exception": false,
     "start_time": "2022-07-13T06:11:53.608210",
     "status": "completed"
    },
    "tags": []
   },
   "outputs": [
    {
     "data": {
      "text/plain": [
       "0.999997092340073"
      ]
     },
     "execution_count": 13,
     "metadata": {},
     "output_type": "execute_result"
    }
   ],
   "source": [
    "PKR.corr(USD)"
   ]
  },
  {
   "cell_type": "code",
   "execution_count": null,
   "id": "e09a09cf",
   "metadata": {
    "papermill": {
     "duration": 0.006478,
     "end_time": "2022-07-13T06:11:53.641982",
     "exception": false,
     "start_time": "2022-07-13T06:11:53.635504",
     "status": "completed"
    },
    "tags": []
   },
   "outputs": [],
   "source": []
  },
  {
   "cell_type": "code",
   "execution_count": null,
   "id": "ac06f6a9",
   "metadata": {
    "papermill": {
     "duration": 0.006565,
     "end_time": "2022-07-13T06:11:53.655324",
     "exception": false,
     "start_time": "2022-07-13T06:11:53.648759",
     "status": "completed"
    },
    "tags": []
   },
   "outputs": [],
   "source": []
  }
 ],
 "metadata": {
  "kernelspec": {
   "display_name": "Python 3",
   "language": "python",
   "name": "python3"
  },
  "language_info": {
   "codemirror_mode": {
    "name": "ipython",
    "version": 3
   },
   "file_extension": ".py",
   "mimetype": "text/x-python",
   "name": "python",
   "nbconvert_exporter": "python",
   "pygments_lexer": "ipython3",
   "version": "3.7.12"
  },
  "papermill": {
   "default_parameters": {},
   "duration": 12.366892,
   "end_time": "2022-07-13T06:11:54.586097",
   "environment_variables": {},
   "exception": null,
   "input_path": "__notebook__.ipynb",
   "output_path": "__notebook__.ipynb",
   "parameters": {},
   "start_time": "2022-07-13T06:11:42.219205",
   "version": "2.3.4"
  }
 },
 "nbformat": 4,
 "nbformat_minor": 5
}
